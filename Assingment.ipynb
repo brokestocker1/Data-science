{
 "cells": [
  {
   "cell_type": "markdown",
   "id": "72745139-7b13-4e6f-bd90-d7be6c214a37",
   "metadata": {},
   "source": [
    "### Create a list of your favorite movies and print it. Then, append a new movie to the list and print the updated list."
   ]
  },
  {
   "cell_type": "code",
   "execution_count": 4,
   "id": "fd4c0b7a-c777-48c8-9486-2013414495e3",
   "metadata": {},
   "outputs": [],
   "source": [
    "favourite_movies = ['Harry porter','spiderman','deadpool','Avengers']"
   ]
  },
  {
   "cell_type": "code",
   "execution_count": 5,
   "id": "ddf7ae01-e4b7-42ec-90b3-9e2f1c28e569",
   "metadata": {},
   "outputs": [
    {
     "data": {
      "text/plain": [
       "['Harry porter', 'spiderman', 'deadpool', 'Avengers']"
      ]
     },
     "execution_count": 5,
     "metadata": {},
     "output_type": "execute_result"
    }
   ],
   "source": [
    "favourite_movies"
   ]
  },
  {
   "cell_type": "code",
   "execution_count": 6,
   "id": "79202f50-21d2-4062-9dc6-4f55999b7100",
   "metadata": {},
   "outputs": [],
   "source": [
    "favourite_movies.append('The 300 Spartans')"
   ]
  },
  {
   "cell_type": "code",
   "execution_count": 7,
   "id": "953e6c98-0d0e-4089-857b-6b91829b0c45",
   "metadata": {},
   "outputs": [
    {
     "data": {
      "text/plain": [
       "['Harry porter', 'spiderman', 'deadpool', 'Avengers', 'The 300 Spartans']"
      ]
     },
     "execution_count": 7,
     "metadata": {},
     "output_type": "execute_result"
    }
   ],
   "source": [
    "favourite_movies"
   ]
  },
  {
   "cell_type": "markdown",
   "id": "b826159d-959e-457e-b0a0-149f1676db54",
   "metadata": {},
   "source": [
    "### Create a list of integers from 1 to 10 and print it. Calculate the sum of all the numbers in the list and print the result."
   ]
  },
  {
   "cell_type": "code",
   "execution_count": 9,
   "id": "90d2d2f6-f735-4e85-a20d-02bed4b03cf1",
   "metadata": {},
   "outputs": [],
   "source": [
    "integers = [1,2,3,4,5,6,7,8,9,10]"
   ]
  },
  {
   "cell_type": "code",
   "execution_count": 10,
   "id": "68c0ffd0-27a4-4141-861b-0a78e93a7d59",
   "metadata": {},
   "outputs": [
    {
     "data": {
      "text/plain": [
       "[1, 2, 3, 4, 5, 6, 7, 8, 9, 10]"
      ]
     },
     "execution_count": 10,
     "metadata": {},
     "output_type": "execute_result"
    }
   ],
   "source": [
    "integers"
   ]
  },
  {
   "cell_type": "code",
   "execution_count": 11,
   "id": "8a311a35-1dd8-4e34-9c26-0db2c8b4d21d",
   "metadata": {},
   "outputs": [],
   "source": [
    "sum_numbers = sum(integers)"
   ]
  },
  {
   "cell_type": "code",
   "execution_count": 12,
   "id": "a9b6f034-37b2-4289-839e-758cd9a926ca",
   "metadata": {},
   "outputs": [
    {
     "data": {
      "text/plain": [
       "55"
      ]
     },
     "execution_count": 12,
     "metadata": {},
     "output_type": "execute_result"
    }
   ],
   "source": [
    "sum_numbers"
   ]
  },
  {
   "cell_type": "markdown",
   "id": "d0f7ac8a-a584-4d43-8f09-ed0610e609c1",
   "metadata": {},
   "source": [
    "### Create a list of mixed data types including strings, integers, and floats and print it. Remove the first element from the list and print the modified list."
   ]
  },
  {
   "cell_type": "code",
   "execution_count": 15,
   "id": "0a80a05b-cb44-4ea9-ad33-0f3e2b29b19a",
   "metadata": {},
   "outputs": [
    {
     "data": {
      "text/plain": [
       "['Rust', 'python', 'javascript', 1, 2, 3, 1.1, 1.2, 1.3]"
      ]
     },
     "execution_count": 15,
     "metadata": {},
     "output_type": "execute_result"
    }
   ],
   "source": [
    "list = ['Rust','python','javascript',1,2,3,1.1,1.2,1.3]\n",
    "list"
   ]
  },
  {
   "cell_type": "code",
   "execution_count": 20,
   "id": "8830800c-dfec-418d-8fbb-d80b8f7d1daa",
   "metadata": {},
   "outputs": [
    {
     "data": {
      "text/plain": [
       "'Rust'"
      ]
     },
     "execution_count": 20,
     "metadata": {},
     "output_type": "execute_result"
    }
   ],
   "source": [
    "list.pop(0)"
   ]
  },
  {
   "cell_type": "code",
   "execution_count": 21,
   "id": "2ecb203f-4f9a-487a-99b0-dc3843738c2b",
   "metadata": {},
   "outputs": [
    {
     "data": {
      "text/plain": [
       "['python', 'javascript', 1, 2, 3, 1.1, 1.2, 1.3]"
      ]
     },
     "execution_count": 21,
     "metadata": {},
     "output_type": "execute_result"
    }
   ],
   "source": [
    "list"
   ]
  },
  {
   "cell_type": "markdown",
   "id": "e3a39110-0e6a-4cb6-9a26-e3dc34fa3a27",
   "metadata": {},
   "source": [
    "### Create a tuple containing the names of the days of the week and print it. Access and print  the name of the third day."
   ]
  },
  {
   "cell_type": "code",
   "execution_count": 23,
   "id": "7677ed92-12c0-46a5-a5ed-352faa077464",
   "metadata": {},
   "outputs": [
    {
     "data": {
      "text/plain": [
       "('sun', 'mon', 'tue', 'wed', 'thu', 'fri', 'sat')"
      ]
     },
     "execution_count": 23,
     "metadata": {},
     "output_type": "execute_result"
    }
   ],
   "source": [
    "name_of_days = ('sun','mon','tue','wed','thu','fri','sat')\n",
    "name_of_days"
   ]
  },
  {
   "cell_type": "code",
   "execution_count": 24,
   "id": "c95e882f-8ec2-46d9-a589-1243dee7474e",
   "metadata": {},
   "outputs": [
    {
     "data": {
      "text/plain": [
       "'tue'"
      ]
     },
     "execution_count": 24,
     "metadata": {},
     "output_type": "execute_result"
    }
   ],
   "source": [
    "name_of_days[2]"
   ]
  },
  {
   "cell_type": "markdown",
   "id": "fc0d471c-6e6b-4bab-8c09-68302553a05d",
   "metadata": {},
   "source": [
    "### Create a tuple of your favorite colors and print it. Check if a certain color is present in the \n",
    "tuple and print the result."
   ]
  },
  {
   "cell_type": "code",
   "execution_count": 25,
   "id": "fed3f5b3-8451-41ee-a21e-7b96562fb2f1",
   "metadata": {},
   "outputs": [
    {
     "data": {
      "text/plain": [
       "('Red', 'Blue', 'green')"
      ]
     },
     "execution_count": 25,
     "metadata": {},
     "output_type": "execute_result"
    }
   ],
   "source": [
    "colours = ('Red','Blue','green')\n",
    "colours"
   ]
  },
  {
   "cell_type": "code",
   "execution_count": 26,
   "id": "357f4250-c3ec-4a33-a0be-972fa1e6fe24",
   "metadata": {},
   "outputs": [
    {
     "name": "stdout",
     "output_type": "stream",
     "text": [
      "colour not found\n"
     ]
    }
   ],
   "source": [
    "certain_colour = 'brown'\n",
    "if certain_colour in colours:\n",
    "    print(\"colour found\")\n",
    "else:\n",
    "    print(\"colour not found\")"
   ]
  },
  {
   "cell_type": "markdown",
   "id": "b1ed3266-0571-487b-944e-57b377236a25",
   "metadata": {},
   "source": [
    "### Create a dictionary representing the information of a book with keys \"title\", \"author\", and  \"year\" and print it. Update the year of the book and print the updated dictionary."
   ]
  },
  {
   "cell_type": "code",
   "execution_count": 29,
   "id": "22842cf9-6b3d-4560-982f-863db81aa54e",
   "metadata": {},
   "outputs": [
    {
     "data": {
      "text/plain": [
       "{'title': 'Rich Dad Poor Dad', 'author': 'Robert Kiyosaki', 'year': '1998'}"
      ]
     },
     "execution_count": 29,
     "metadata": {},
     "output_type": "execute_result"
    }
   ],
   "source": [
    "books = {'title':'Rich Dad Poor Dad','author':'Robert Kiyosaki','year':'1998'}\n",
    "books"
   ]
  },
  {
   "cell_type": "code",
   "execution_count": null,
   "id": "f19fd1ba-7b40-4cdb-bc52-fbb2cafd6ea9",
   "metadata": {},
   "outputs": [],
   "source": [
    "books['year']=2000\n",
    "books"
   ]
  },
  {
   "cell_type": "markdown",
   "id": "b0f60647-14ce-472b-ba1e-3017977448f1",
   "metadata": {},
   "source": [
    "### Create a dictionary containing the names of fruits as keys and their corresponding colors as values and print it. Add a new fruit-color pair to the dictionary and print the update \n",
    "dictionary."
   ]
  },
  {
   "cell_type": "code",
   "execution_count": 32,
   "id": "6eaf766a-d55f-4b58-8e85-45c64fd19590",
   "metadata": {},
   "outputs": [
    {
     "data": {
      "text/plain": [
       "{'Apple': 'Red', 'Banana': 'Yellow', 'Grapes': 'Green', 'Brown': 'Kiwi'}"
      ]
     },
     "execution_count": 32,
     "metadata": {},
     "output_type": "execute_result"
    }
   ],
   "source": [
    "dict_fruits = {'Apple':'Red','Banana':'Yellow','Grapes':'Green','Brown':'Kiwi'}\n",
    "dict_fruits"
   ]
  },
  {
   "cell_type": "code",
   "execution_count": 33,
   "id": "61dc2866-92d4-42fd-97f2-6ce43d657053",
   "metadata": {},
   "outputs": [
    {
     "data": {
      "text/plain": [
       "dict_keys(['Apple', 'Banana', 'Grapes', 'Brown'])"
      ]
     },
     "execution_count": 33,
     "metadata": {},
     "output_type": "execute_result"
    }
   ],
   "source": [
    "dict_fruits.keys()"
   ]
  },
  {
   "cell_type": "code",
   "execution_count": 34,
   "id": "d16fee4f-0f76-43ac-90ce-1228dc96e1da",
   "metadata": {},
   "outputs": [
    {
     "data": {
      "text/plain": [
       "dict_values(['Red', 'Yellow', 'Green', 'Kiwi'])"
      ]
     },
     "execution_count": 34,
     "metadata": {},
     "output_type": "execute_result"
    }
   ],
   "source": [
    "dict_fruits.values()"
   ]
  },
  {
   "cell_type": "code",
   "execution_count": 35,
   "id": "e0ad4457-90e8-4c0a-9f14-45a128e67bdf",
   "metadata": {},
   "outputs": [],
   "source": [
    "dict_fruits['papaya']='Orange'"
   ]
  },
  {
   "cell_type": "code",
   "execution_count": 36,
   "id": "e00972e6-84c9-45a4-bd66-7c7604bcb1ec",
   "metadata": {},
   "outputs": [
    {
     "data": {
      "text/plain": [
       "{'Apple': 'Red',\n",
       " 'Banana': 'Yellow',\n",
       " 'Grapes': 'Green',\n",
       " 'Brown': 'Kiwi',\n",
       " 'papaya': 'Orange'}"
      ]
     },
     "execution_count": 36,
     "metadata": {},
     "output_type": "execute_result"
    }
   ],
   "source": [
    "dict_fruits"
   ]
  },
  {
   "cell_type": "markdown",
   "id": "41f1ae8b-dc9e-4ec4-9766-55e29fca1c52",
   "metadata": {},
   "source": [
    "### Create a dictionary representing the population of different cities with keys as city names \n",
    "and values as population numbers and print it. Remove a city from the dictionary and prin \r\n",
    "the modified dictionary."
   ]
  },
  {
   "cell_type": "code",
   "execution_count": 37,
   "id": "6c5afedb-bcf3-4d9f-bcda-9da7f3e4d5c2",
   "metadata": {},
   "outputs": [
    {
     "data": {
      "text/plain": [
       "{'kathmandu': '300000',\n",
       " 'Bhaktapur': '200000',\n",
       " 'Lalitpur': '250000',\n",
       " 'pokhara': '400000',\n",
       " 'Bharatpur': '100000'}"
      ]
     },
     "execution_count": 37,
     "metadata": {},
     "output_type": "execute_result"
    }
   ],
   "source": [
    "population = {'kathmandu':'300000','Bhaktapur':'200000','Lalitpur':'250000','pokhara':'400000','Bharatpur':'100000'}\n",
    "population"
   ]
  },
  {
   "cell_type": "code",
   "execution_count": 39,
   "id": "7b939b08-f183-4bd7-b0a7-f8c596c2595c",
   "metadata": {},
   "outputs": [
    {
     "data": {
      "text/plain": [
       "'250000'"
      ]
     },
     "execution_count": 39,
     "metadata": {},
     "output_type": "execute_result"
    }
   ],
   "source": [
    "population.pop('Lalitpur')"
   ]
  },
  {
   "cell_type": "code",
   "execution_count": 40,
   "id": "55b3f954-5c72-454c-b5f2-041f4b2456fe",
   "metadata": {},
   "outputs": [
    {
     "data": {
      "text/plain": [
       "{'kathmandu': '300000',\n",
       " 'Bhaktapur': '200000',\n",
       " 'pokhara': '400000',\n",
       " 'Bharatpur': '100000'}"
      ]
     },
     "execution_count": 40,
     "metadata": {},
     "output_type": "execute_result"
    }
   ],
   "source": [
    "population"
   ]
  },
  {
   "cell_type": "code",
   "execution_count": null,
   "id": "19924765-b112-44bf-88e9-da77d318fb9c",
   "metadata": {},
   "outputs": [],
   "source": []
  }
 ],
 "metadata": {
  "kernelspec": {
   "display_name": "Python 3 (ipykernel)",
   "language": "python",
   "name": "python3"
  },
  "language_info": {
   "codemirror_mode": {
    "name": "ipython",
    "version": 3
   },
   "file_extension": ".py",
   "mimetype": "text/x-python",
   "name": "python",
   "nbconvert_exporter": "python",
   "pygments_lexer": "ipython3",
   "version": "3.11.7"
  }
 },
 "nbformat": 4,
 "nbformat_minor": 5
}
